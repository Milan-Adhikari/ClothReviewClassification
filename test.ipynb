{
 "cells": [
  {
   "cell_type": "code",
   "execution_count": 1,
   "metadata": {},
   "outputs": [],
   "source": [
    "import re\n",
    "import joblib\n",
    "from nltk.corpus import stopwords\n",
    "from nltk.tokenize import word_tokenize\n",
    "from nltk.stem import WordNetLemmatizer"
   ]
  },
  {
   "cell_type": "code",
   "execution_count": 4,
   "metadata": {},
   "outputs": [],
   "source": [
    "# Load the model\n",
    "model = joblib.load('model/model.pkl')\n",
    "\n",
    "# Load the vectorizer\n",
    "vectorizer = joblib.load('model/vectorizer.pkl')\n"
   ]
  },
  {
   "cell_type": "code",
   "execution_count": 5,
   "metadata": {},
   "outputs": [],
   "source": [
    "# setting up stopwords from english using nltk's corpus\n",
    "# stopwords are common words that we filter out because they dont\n",
    "# carry much meaning on their own eg: a, the, in etc\n",
    "stop_words = set(stopwords.words('english'))\n",
    "# lemmatizer is a tool that reduces the words to their root form.\n",
    "# eg: loving to love, hated to hate etc\n",
    "lemmatizer = WordNetLemmatizer()"
   ]
  },
  {
   "cell_type": "code",
   "execution_count": 6,
   "metadata": {},
   "outputs": [],
   "source": [
    "def preprocess_text(text):\n",
    "    # we convert all the text to lowercase to avoid duplicacy due to cases\n",
    "    text = text.lower()  \n",
    "    # we then remove any numbers from the text\n",
    "    text = re.sub(r'\\d+', '', text)  \n",
    "    # also, we remove punctuations from the text as they donot carry much meaning for our purpose\n",
    "    text = re.sub(r'[^\\w\\s]', '', text)  # Removing punctuation\n",
    "    # now, we split the text into individual words\n",
    "    tokenized_text = word_tokenize(text)  # Tokenization\n",
    "    # then, we convert each word to root word, and remove common words\n",
    "    text = [lemmatizer.lemmatize(word) for word in tokenized_text if word not in stop_words]\n",
    "    return ' '.join(text)"
   ]
  },
  {
   "cell_type": "code",
   "execution_count": 7,
   "metadata": {},
   "outputs": [],
   "source": [
    "def predict_rating(review):\n",
    "    preprocessed_review = preprocess_text(review)\n",
    "    vectorized_review = vectorizer.transform([preprocessed_review]).toarray()\n",
    "    predicted_rating = model.predict(vectorized_review)\n",
    "    return predicted_rating"
   ]
  },
  {
   "cell_type": "code",
   "execution_count": 8,
   "metadata": {},
   "outputs": [],
   "source": [
    "# creating sample reviews for testing\n",
    "singleReview = ['The cloth was a great fit. I looked very good, and i felt comfortable.']\n",
    "reviewSamples = ['it did not fit me at all. Absolutely hated it.', 'it was satisfactory.']"
   ]
  },
  {
   "cell_type": "code",
   "execution_count": 9,
   "metadata": {},
   "outputs": [
    {
     "name": "stdout",
     "output_type": "stream",
     "text": [
      "[5]\n",
      "[3]\n"
     ]
    }
   ],
   "source": [
    "for i in reviewSamples:\n",
    "    print(predict_rating(i))"
   ]
  },
  {
   "cell_type": "code",
   "execution_count": null,
   "metadata": {},
   "outputs": [],
   "source": []
  }
 ],
 "metadata": {
  "kernelspec": {
   "display_name": "env",
   "language": "python",
   "name": "python3"
  },
  "language_info": {
   "codemirror_mode": {
    "name": "ipython",
    "version": 3
   },
   "file_extension": ".py",
   "mimetype": "text/x-python",
   "name": "python",
   "nbconvert_exporter": "python",
   "pygments_lexer": "ipython3",
   "version": "3.11.4"
  },
  "orig_nbformat": 4
 },
 "nbformat": 4,
 "nbformat_minor": 2
}
